{
  "cells": [
    {
      "cell_type": "markdown",
      "metadata": {
        "id": "1RxBzRtpbQ3q"
      },
      "source": [
        "2. Классификация тональности коротких текстов на том же корпусе, но с помощью эмбеддингов и свёрточных нейросеточек. Основной инструмент - spacy. Пусть они научаться достраивать пайплайны в этой библиотеке примерно так https://spacy.io/usage/training#config-custom"
      ]
    },
    {
      "cell_type": "code",
      "execution_count": null,
      "metadata": {
        "id": "WiDQuGjac8hS"
      },
      "outputs": [],
      "source": [
        "#!pip install -U pip setuptools wheel"
      ]
    },
    {
      "cell_type": "code",
      "execution_count": null,
      "metadata": {
        "id": "DthL50MAdCnO"
      },
      "outputs": [],
      "source": [
        "#!pip install -U spacy"
      ]
    },
    {
      "cell_type": "code",
      "execution_count": null,
      "metadata": {
        "id": "ftr_hjv5TtxC"
      },
      "outputs": [],
      "source": [
        "! python -m spacy download ru_core_news_sm"
      ]
    },
    {
      "cell_type": "code",
      "execution_count": null,
      "metadata": {
        "id": "Ny2S7HniUzv7"
      },
      "outputs": [],
      "source": [
        "import spacy\n",
        "from tqdm import tqdm\n",
        "from spacy.tokens import DocBin"
      ]
    },
    {
      "cell_type": "code",
      "source": [
        "import pandas as pd\n",
        "import numpy as np\n",
        "\n",
        "dtype = {'id': np.uint16, 'date': str, 'name': str, 'text': str,  'type': np.int}\n",
        "positive_df = pd.read_csv('/content/positive.csv', sep=\";\",  names=['id', 'date', 'name', 'text', 'type'], usecols=dtype.keys(), dtype=dtype)\n",
        "negative_df = pd.read_csv('/content/negative.csv', sep=\";\",  names=['id', 'date', 'name', 'text', 'type'], usecols=dtype.keys(), dtype=dtype)\n",
        "\n",
        "positive_df.drop(['id', 'date', 'name'], axis=1, inplace=True)\n",
        "negative_df.drop(['id', 'date', 'name'], axis=1, inplace=True)\n",
        "\n",
        "df = pd.concat([positive_df, negative_df], ignore_index=True)\n",
        "df.rename(columns={'text': 'review', 'type': 'sentiment'}, inplace=True)\n",
        "df.head()"
      ],
      "metadata": {
        "colab": {
          "base_uri": "https://localhost:8080/",
          "height": 278
        },
        "id": "no81hJ34lcZN",
        "outputId": "6944366c-24f6-4034-ea22-2546f6959b22"
      },
      "execution_count": null,
      "outputs": [
        {
          "output_type": "stream",
          "name": "stderr",
          "text": [
            "/usr/local/lib/python3.7/dist-packages/ipykernel_launcher.py:4: DeprecationWarning: `np.int` is a deprecated alias for the builtin `int`. To silence this warning, use `int` by itself. Doing this will not modify any behavior and is safe. When replacing `np.int`, you may wish to use e.g. `np.int64` or `np.int32` to specify the precision. If you wish to review your current use, check the release note link for additional information.\n",
            "Deprecated in NumPy 1.20; for more details and guidance: https://numpy.org/devdocs/release/1.20.0-notes.html#deprecations\n",
            "  after removing the cwd from sys.path.\n"
          ]
        },
        {
          "output_type": "execute_result",
          "data": {
            "text/plain": [
              "                                              review  sentiment\n",
              "0  @first_timee хоть я и школота, но поверь, у на...          1\n",
              "1  Да, все-таки он немного похож на него. Но мой ...          1\n",
              "2  RT @KatiaCheh: Ну ты идиотка) я испугалась за ...          1\n",
              "3  RT @digger2912: \"Кто то в углу сидит и погибае...          1\n",
              "4  @irina_dyshkant Вот что значит страшилка :D\\nН...          1"
            ],
            "text/html": [
              "\n",
              "  <div id=\"df-11216b7c-3d6b-4d56-a6b4-c4755841b906\">\n",
              "    <div class=\"colab-df-container\">\n",
              "      <div>\n",
              "<style scoped>\n",
              "    .dataframe tbody tr th:only-of-type {\n",
              "        vertical-align: middle;\n",
              "    }\n",
              "\n",
              "    .dataframe tbody tr th {\n",
              "        vertical-align: top;\n",
              "    }\n",
              "\n",
              "    .dataframe thead th {\n",
              "        text-align: right;\n",
              "    }\n",
              "</style>\n",
              "<table border=\"1\" class=\"dataframe\">\n",
              "  <thead>\n",
              "    <tr style=\"text-align: right;\">\n",
              "      <th></th>\n",
              "      <th>review</th>\n",
              "      <th>sentiment</th>\n",
              "    </tr>\n",
              "  </thead>\n",
              "  <tbody>\n",
              "    <tr>\n",
              "      <th>0</th>\n",
              "      <td>@first_timee хоть я и школота, но поверь, у на...</td>\n",
              "      <td>1</td>\n",
              "    </tr>\n",
              "    <tr>\n",
              "      <th>1</th>\n",
              "      <td>Да, все-таки он немного похож на него. Но мой ...</td>\n",
              "      <td>1</td>\n",
              "    </tr>\n",
              "    <tr>\n",
              "      <th>2</th>\n",
              "      <td>RT @KatiaCheh: Ну ты идиотка) я испугалась за ...</td>\n",
              "      <td>1</td>\n",
              "    </tr>\n",
              "    <tr>\n",
              "      <th>3</th>\n",
              "      <td>RT @digger2912: \"Кто то в углу сидит и погибае...</td>\n",
              "      <td>1</td>\n",
              "    </tr>\n",
              "    <tr>\n",
              "      <th>4</th>\n",
              "      <td>@irina_dyshkant Вот что значит страшилка :D\\nН...</td>\n",
              "      <td>1</td>\n",
              "    </tr>\n",
              "  </tbody>\n",
              "</table>\n",
              "</div>\n",
              "      <button class=\"colab-df-convert\" onclick=\"convertToInteractive('df-11216b7c-3d6b-4d56-a6b4-c4755841b906')\"\n",
              "              title=\"Convert this dataframe to an interactive table.\"\n",
              "              style=\"display:none;\">\n",
              "        \n",
              "  <svg xmlns=\"http://www.w3.org/2000/svg\" height=\"24px\"viewBox=\"0 0 24 24\"\n",
              "       width=\"24px\">\n",
              "    <path d=\"M0 0h24v24H0V0z\" fill=\"none\"/>\n",
              "    <path d=\"M18.56 5.44l.94 2.06.94-2.06 2.06-.94-2.06-.94-.94-2.06-.94 2.06-2.06.94zm-11 1L8.5 8.5l.94-2.06 2.06-.94-2.06-.94L8.5 2.5l-.94 2.06-2.06.94zm10 10l.94 2.06.94-2.06 2.06-.94-2.06-.94-.94-2.06-.94 2.06-2.06.94z\"/><path d=\"M17.41 7.96l-1.37-1.37c-.4-.4-.92-.59-1.43-.59-.52 0-1.04.2-1.43.59L10.3 9.45l-7.72 7.72c-.78.78-.78 2.05 0 2.83L4 21.41c.39.39.9.59 1.41.59.51 0 1.02-.2 1.41-.59l7.78-7.78 2.81-2.81c.8-.78.8-2.07 0-2.86zM5.41 20L4 18.59l7.72-7.72 1.47 1.35L5.41 20z\"/>\n",
              "  </svg>\n",
              "      </button>\n",
              "      \n",
              "  <style>\n",
              "    .colab-df-container {\n",
              "      display:flex;\n",
              "      flex-wrap:wrap;\n",
              "      gap: 12px;\n",
              "    }\n",
              "\n",
              "    .colab-df-convert {\n",
              "      background-color: #E8F0FE;\n",
              "      border: none;\n",
              "      border-radius: 50%;\n",
              "      cursor: pointer;\n",
              "      display: none;\n",
              "      fill: #1967D2;\n",
              "      height: 32px;\n",
              "      padding: 0 0 0 0;\n",
              "      width: 32px;\n",
              "    }\n",
              "\n",
              "    .colab-df-convert:hover {\n",
              "      background-color: #E2EBFA;\n",
              "      box-shadow: 0px 1px 2px rgba(60, 64, 67, 0.3), 0px 1px 3px 1px rgba(60, 64, 67, 0.15);\n",
              "      fill: #174EA6;\n",
              "    }\n",
              "\n",
              "    [theme=dark] .colab-df-convert {\n",
              "      background-color: #3B4455;\n",
              "      fill: #D2E3FC;\n",
              "    }\n",
              "\n",
              "    [theme=dark] .colab-df-convert:hover {\n",
              "      background-color: #434B5C;\n",
              "      box-shadow: 0px 1px 3px 1px rgba(0, 0, 0, 0.15);\n",
              "      filter: drop-shadow(0px 1px 2px rgba(0, 0, 0, 0.3));\n",
              "      fill: #FFFFFF;\n",
              "    }\n",
              "  </style>\n",
              "\n",
              "      <script>\n",
              "        const buttonEl =\n",
              "          document.querySelector('#df-11216b7c-3d6b-4d56-a6b4-c4755841b906 button.colab-df-convert');\n",
              "        buttonEl.style.display =\n",
              "          google.colab.kernel.accessAllowed ? 'block' : 'none';\n",
              "\n",
              "        async function convertToInteractive(key) {\n",
              "          const element = document.querySelector('#df-11216b7c-3d6b-4d56-a6b4-c4755841b906');\n",
              "          const dataTable =\n",
              "            await google.colab.kernel.invokeFunction('convertToInteractive',\n",
              "                                                     [key], {});\n",
              "          if (!dataTable) return;\n",
              "\n",
              "          const docLinkHtml = 'Like what you see? Visit the ' +\n",
              "            '<a target=\"_blank\" href=https://colab.research.google.com/notebooks/data_table.ipynb>data table notebook</a>'\n",
              "            + ' to learn more about interactive tables.';\n",
              "          element.innerHTML = '';\n",
              "          dataTable['output_type'] = 'display_data';\n",
              "          await google.colab.output.renderOutput(dataTable, element);\n",
              "          const docLink = document.createElement('div');\n",
              "          docLink.innerHTML = docLinkHtml;\n",
              "          element.appendChild(docLink);\n",
              "        }\n",
              "      </script>\n",
              "    </div>\n",
              "  </div>\n",
              "  "
            ]
          },
          "metadata": {},
          "execution_count": 55
        }
      ]
    },
    {
      "cell_type": "code",
      "execution_count": null,
      "metadata": {
        "id": "F0YcNF5SUz5D"
      },
      "outputs": [],
      "source": [
        "my_nlp = spacy.load(\"ru_core_news_sm\")"
      ]
    },
    {
      "cell_type": "code",
      "execution_count": null,
      "metadata": {
        "colab": {
          "base_uri": "https://localhost:8080/",
          "height": 206
        },
        "id": "VXCwdbe3WpbC",
        "outputId": "3a75872f-60c3-483b-e2a1-cb9cdad21243"
      },
      "outputs": [
        {
          "output_type": "execute_result",
          "data": {
            "text/plain": [
              "                                                   review sentiment\n",
              "116853  @OlgaKlein Какой ужас ( какими надо быть людьм...  negative\n",
              "151082        @artemandrosov одиннадцатый час ведь уже :(  negative\n",
              "216890  Батодалай такой такой ! Блинн.. Ну я ему не нр...  negative\n",
              "74142   Лиза сушит юбку на батарее в школе, пока идут ...  positive\n",
              "209361  1с: зарплата и управление персоналомпрограмма ...  negative"
            ],
            "text/html": [
              "\n",
              "  <div id=\"df-efd68d6a-8283-4dc8-b72e-a141ecccdd44\">\n",
              "    <div class=\"colab-df-container\">\n",
              "      <div>\n",
              "<style scoped>\n",
              "    .dataframe tbody tr th:only-of-type {\n",
              "        vertical-align: middle;\n",
              "    }\n",
              "\n",
              "    .dataframe tbody tr th {\n",
              "        vertical-align: top;\n",
              "    }\n",
              "\n",
              "    .dataframe thead th {\n",
              "        text-align: right;\n",
              "    }\n",
              "</style>\n",
              "<table border=\"1\" class=\"dataframe\">\n",
              "  <thead>\n",
              "    <tr style=\"text-align: right;\">\n",
              "      <th></th>\n",
              "      <th>review</th>\n",
              "      <th>sentiment</th>\n",
              "    </tr>\n",
              "  </thead>\n",
              "  <tbody>\n",
              "    <tr>\n",
              "      <th>116853</th>\n",
              "      <td>@OlgaKlein Какой ужас ( какими надо быть людьм...</td>\n",
              "      <td>negative</td>\n",
              "    </tr>\n",
              "    <tr>\n",
              "      <th>151082</th>\n",
              "      <td>@artemandrosov одиннадцатый час ведь уже :(</td>\n",
              "      <td>negative</td>\n",
              "    </tr>\n",
              "    <tr>\n",
              "      <th>216890</th>\n",
              "      <td>Батодалай такой такой ! Блинн.. Ну я ему не нр...</td>\n",
              "      <td>negative</td>\n",
              "    </tr>\n",
              "    <tr>\n",
              "      <th>74142</th>\n",
              "      <td>Лиза сушит юбку на батарее в школе, пока идут ...</td>\n",
              "      <td>positive</td>\n",
              "    </tr>\n",
              "    <tr>\n",
              "      <th>209361</th>\n",
              "      <td>1с: зарплата и управление персоналомпрограмма ...</td>\n",
              "      <td>negative</td>\n",
              "    </tr>\n",
              "  </tbody>\n",
              "</table>\n",
              "</div>\n",
              "      <button class=\"colab-df-convert\" onclick=\"convertToInteractive('df-efd68d6a-8283-4dc8-b72e-a141ecccdd44')\"\n",
              "              title=\"Convert this dataframe to an interactive table.\"\n",
              "              style=\"display:none;\">\n",
              "        \n",
              "  <svg xmlns=\"http://www.w3.org/2000/svg\" height=\"24px\"viewBox=\"0 0 24 24\"\n",
              "       width=\"24px\">\n",
              "    <path d=\"M0 0h24v24H0V0z\" fill=\"none\"/>\n",
              "    <path d=\"M18.56 5.44l.94 2.06.94-2.06 2.06-.94-2.06-.94-.94-2.06-.94 2.06-2.06.94zm-11 1L8.5 8.5l.94-2.06 2.06-.94-2.06-.94L8.5 2.5l-.94 2.06-2.06.94zm10 10l.94 2.06.94-2.06 2.06-.94-2.06-.94-.94-2.06-.94 2.06-2.06.94z\"/><path d=\"M17.41 7.96l-1.37-1.37c-.4-.4-.92-.59-1.43-.59-.52 0-1.04.2-1.43.59L10.3 9.45l-7.72 7.72c-.78.78-.78 2.05 0 2.83L4 21.41c.39.39.9.59 1.41.59.51 0 1.02-.2 1.41-.59l7.78-7.78 2.81-2.81c.8-.78.8-2.07 0-2.86zM5.41 20L4 18.59l7.72-7.72 1.47 1.35L5.41 20z\"/>\n",
              "  </svg>\n",
              "      </button>\n",
              "      \n",
              "  <style>\n",
              "    .colab-df-container {\n",
              "      display:flex;\n",
              "      flex-wrap:wrap;\n",
              "      gap: 12px;\n",
              "    }\n",
              "\n",
              "    .colab-df-convert {\n",
              "      background-color: #E8F0FE;\n",
              "      border: none;\n",
              "      border-radius: 50%;\n",
              "      cursor: pointer;\n",
              "      display: none;\n",
              "      fill: #1967D2;\n",
              "      height: 32px;\n",
              "      padding: 0 0 0 0;\n",
              "      width: 32px;\n",
              "    }\n",
              "\n",
              "    .colab-df-convert:hover {\n",
              "      background-color: #E2EBFA;\n",
              "      box-shadow: 0px 1px 2px rgba(60, 64, 67, 0.3), 0px 1px 3px 1px rgba(60, 64, 67, 0.15);\n",
              "      fill: #174EA6;\n",
              "    }\n",
              "\n",
              "    [theme=dark] .colab-df-convert {\n",
              "      background-color: #3B4455;\n",
              "      fill: #D2E3FC;\n",
              "    }\n",
              "\n",
              "    [theme=dark] .colab-df-convert:hover {\n",
              "      background-color: #434B5C;\n",
              "      box-shadow: 0px 1px 3px 1px rgba(0, 0, 0, 0.15);\n",
              "      filter: drop-shadow(0px 1px 2px rgba(0, 0, 0, 0.3));\n",
              "      fill: #FFFFFF;\n",
              "    }\n",
              "  </style>\n",
              "\n",
              "      <script>\n",
              "        const buttonEl =\n",
              "          document.querySelector('#df-efd68d6a-8283-4dc8-b72e-a141ecccdd44 button.colab-df-convert');\n",
              "        buttonEl.style.display =\n",
              "          google.colab.kernel.accessAllowed ? 'block' : 'none';\n",
              "\n",
              "        async function convertToInteractive(key) {\n",
              "          const element = document.querySelector('#df-efd68d6a-8283-4dc8-b72e-a141ecccdd44');\n",
              "          const dataTable =\n",
              "            await google.colab.kernel.invokeFunction('convertToInteractive',\n",
              "                                                     [key], {});\n",
              "          if (!dataTable) return;\n",
              "\n",
              "          const docLinkHtml = 'Like what you see? Visit the ' +\n",
              "            '<a target=\"_blank\" href=https://colab.research.google.com/notebooks/data_table.ipynb>data table notebook</a>'\n",
              "            + ' to learn more about interactive tables.';\n",
              "          element.innerHTML = '';\n",
              "          dataTable['output_type'] = 'display_data';\n",
              "          await google.colab.output.renderOutput(dataTable, element);\n",
              "          const docLink = document.createElement('div');\n",
              "          docLink.innerHTML = docLinkHtml;\n",
              "          element.appendChild(docLink);\n",
              "        }\n",
              "      </script>\n",
              "    </div>\n",
              "  </div>\n",
              "  "
            ]
          },
          "metadata": {},
          "execution_count": 56
        }
      ],
      "source": [
        "df.loc[(df.sentiment == -1), 'sentiment'] = 'negative'\n",
        "df.loc[(df.sentiment == 1), 'sentiment'] = 'positive'\n",
        "\n",
        "df = df.sample(frac=0.27)\n",
        "df.head()"
      ]
    },
    {
      "cell_type": "code",
      "execution_count": null,
      "metadata": {
        "colab": {
          "base_uri": "https://localhost:8080/"
        },
        "id": "gq9mYwnUW7Ua",
        "outputId": "71fac40b-2978-4045-8ba9-24861a61a9c7"
      },
      "outputs": [
        {
          "output_type": "execute_result",
          "data": {
            "text/plain": [
              "positive    31081\n",
              "negative    30164\n",
              "Name: sentiment, dtype: int64"
            ]
          },
          "metadata": {},
          "execution_count": 57
        }
      ],
      "source": [
        "df['sentiment'].value_counts()"
      ]
    },
    {
      "cell_type": "code",
      "execution_count": null,
      "metadata": {
        "id": "BKLRgrDKXBYl"
      },
      "outputs": [],
      "source": [
        "data = [tuple(df.iloc[i].values) for i in range(df.shape[0])]"
      ]
    },
    {
      "cell_type": "code",
      "execution_count": null,
      "metadata": {
        "id": "NEHXYwwuZCS0"
      },
      "outputs": [],
      "source": [
        "train_data= data[:50000]\n",
        "valid_data= data[50000:]"
      ]
    },
    {
      "cell_type": "code",
      "execution_count": null,
      "metadata": {
        "id": "J3RdfOBMZVYc"
      },
      "outputs": [],
      "source": [
        "def make_docs(data):\n",
        "  docs = []\n",
        "  a = tqdm(my_nlp.pipe(data, as_tuples=True), total = len(data))\n",
        "  for doc, label in a:\n",
        "    if label == 'negative':\n",
        "      doc.cats['positive'] = 0\n",
        "      doc.cats['negative'] = 1\n",
        "    else:\n",
        "      doc.cats['positive'] = 1\n",
        "      doc.cats['negative'] = 0\n",
        "\n",
        "    docs.append(doc)\n",
        "  return docs\n"
      ]
    },
    {
      "cell_type": "code",
      "source": [
        "len(valid_data)"
      ],
      "metadata": {
        "colab": {
          "base_uri": "https://localhost:8080/"
        },
        "id": "s5xMVo8Ip6vd",
        "outputId": "308700b2-4572-4f41-83db-b04b989091e1"
      },
      "execution_count": null,
      "outputs": [
        {
          "output_type": "execute_result",
          "data": {
            "text/plain": [
              "11245"
            ]
          },
          "metadata": {},
          "execution_count": 61
        }
      ]
    },
    {
      "cell_type": "code",
      "execution_count": null,
      "metadata": {
        "colab": {
          "base_uri": "https://localhost:8080/"
        },
        "id": "b73LOVHKadvr",
        "outputId": "e3ae9f24-4623-4635-982c-9c3c9c5b51c7"
      },
      "outputs": [
        {
          "output_type": "stream",
          "name": "stderr",
          "text": [
            "100%|██████████| 50000/50000 [03:53<00:00, 214.10it/s]\n"
          ]
        }
      ],
      "source": [
        "import socket\n",
        "#num_texts = 100\n",
        "\n",
        "#train_docs = make_docs(train_data[:num_texts])\n",
        "train_docs = make_docs(train_data)\n",
        "doc_bin = DocBin(docs=train_docs)\n",
        "doc_bin.to_disk(\"train.spacy\")"
      ]
    },
    {
      "cell_type": "code",
      "execution_count": null,
      "metadata": {
        "colab": {
          "base_uri": "https://localhost:8080/"
        },
        "id": "zcwntLvveJr8",
        "outputId": "29ddb64c-2a48-4540-af4e-377f84cb27b6"
      },
      "outputs": [
        {
          "output_type": "stream",
          "name": "stderr",
          "text": [
            "100%|██████████| 11245/11245 [00:51<00:00, 218.45it/s]\n"
          ]
        }
      ],
      "source": [
        "#valid_docs = make_docs(valid_data[:num_texts])\n",
        "valid_docs = make_docs(valid_data)\n",
        "doc_bin = DocBin(docs=valid_docs)\n",
        "doc_bin.to_disk(\"valid.spacy\")"
      ]
    },
    {
      "cell_type": "code",
      "execution_count": null,
      "metadata": {
        "colab": {
          "base_uri": "https://localhost:8080/"
        },
        "id": "tytimfZpfiO-",
        "outputId": "83c02705-007f-4417-d25f-ca677133cc3f"
      },
      "outputs": [
        {
          "output_type": "stream",
          "name": "stdout",
          "text": [
            "2022-10-27 04:54:28.507910: E tensorflow/stream_executor/cuda/cuda_driver.cc:271] failed call to cuInit: CUDA_ERROR_NO_DEVICE: no CUDA-capable device is detected\n",
            "\u001b[38;5;2m✔ Auto-filled config with all values\u001b[0m\n",
            "\u001b[38;5;2m✔ Saved config\u001b[0m\n",
            "config.cfg\n",
            "You can now add your data and train your pipeline:\n",
            "python -m spacy train config.cfg --paths.train ./train.spacy --paths.dev ./dev.spacy\n"
          ]
        }
      ],
      "source": [
        "! python -m spacy init fill-config base_config.cfg config.cfg"
      ]
    },
    {
      "cell_type": "code",
      "execution_count": null,
      "metadata": {
        "colab": {
          "base_uri": "https://localhost:8080/"
        },
        "id": "7NPZhzfTh-eK",
        "outputId": "3bf775d7-b4ca-49b0-805e-36091894c695"
      },
      "outputs": [
        {
          "output_type": "stream",
          "name": "stdout",
          "text": [
            "2022-10-27 04:54:47.595930: E tensorflow/stream_executor/cuda/cuda_driver.cc:271] failed call to cuInit: CUDA_ERROR_NO_DEVICE: no CUDA-capable device is detected\n",
            "\u001b[38;5;4mℹ Saving to output directory: output\u001b[0m\n",
            "\u001b[38;5;4mℹ Using CPU\u001b[0m\n",
            "\u001b[1m\n",
            "=========================== Initializing pipeline ===========================\u001b[0m\n",
            "[2022-10-27 04:54:48,961] [INFO] Set up nlp object from config\n",
            "INFO:spacy:Set up nlp object from config\n",
            "[2022-10-27 04:54:48,976] [INFO] Pipeline: ['textcat']\n",
            "INFO:spacy:Pipeline: ['textcat']\n",
            "[2022-10-27 04:54:48,980] [INFO] Created vocabulary\n",
            "INFO:spacy:Created vocabulary\n",
            "[2022-10-27 04:54:48,982] [INFO] Finished initializing nlp object\n",
            "INFO:spacy:Finished initializing nlp object\n",
            "[2022-10-27 04:55:26,268] [INFO] Initialized pipeline components: ['textcat']\n",
            "INFO:spacy:Initialized pipeline components: ['textcat']\n",
            "\u001b[38;5;2m✔ Initialized pipeline\u001b[0m\n",
            "\u001b[1m\n",
            "============================= Training pipeline =============================\u001b[0m\n",
            "\u001b[38;5;4mℹ Pipeline: ['textcat']\u001b[0m\n",
            "\u001b[38;5;4mℹ Initial learn rate: 0.001\u001b[0m\n",
            "E    #       LOSS TEXTCAT  CATS_SCORE  SCORE \n",
            "---  ------  ------------  ----------  ------\n",
            "  0       0          0.25       34.21    0.34\n",
            "  0     200          9.95       97.88    0.98\n",
            "  0     400          3.41       98.09    0.98\n",
            "  0     600          3.13       98.40    0.98\n",
            "  0     800          2.73       98.09    0.98\n",
            "  0    1000          2.15       98.60    0.99\n",
            "  0    1200          2.36       98.83    0.99\n",
            "  0    1400          1.69       98.99    0.99\n",
            "  0    1600          1.57       99.08    0.99\n",
            "  0    1800          1.42       99.27    0.99\n",
            "  0    2000          1.17       99.27    0.99\n",
            "  0    2200          1.05       99.24    0.99\n",
            "  1    2400          0.69       99.32    0.99\n",
            "  1    2600          0.55       99.48    0.99\n",
            "  1    2800          0.45       99.41    0.99\n",
            "  1    3000          0.48       99.46    0.99\n",
            "  2    3200          0.33       99.43    0.99\n",
            "  2    3400          0.11       99.41    0.99\n",
            "  2    3600          0.10       99.40    0.99\n",
            "  2    3800          0.11       99.45    0.99\n",
            "  3    4000          0.02       99.42    0.99\n",
            "  3    4200          0.00       99.47    0.99\n",
            "\u001b[38;5;2m✔ Saved pipeline to output directory\u001b[0m\n",
            "output/model-last\n"
          ]
        }
      ],
      "source": [
        "! python -m spacy train config.cfg --output ./output"
      ]
    },
    {
      "cell_type": "code",
      "source": [
        "print(valid_data[11244])\n",
        "print(valid_data[1])\n",
        "print(valid_data[1145])"
      ],
      "metadata": {
        "colab": {
          "base_uri": "https://localhost:8080/"
        },
        "id": "aPMrj4J500Zp",
        "outputId": "8e726a66-c7c5-4278-d856-99264859ab42"
      },
      "execution_count": null,
      "outputs": [
        {
          "output_type": "stream",
          "name": "stdout",
          "text": [
            "('@m_prezident Государство какой плохое)\\nНа героине много заработать они может?)', 'positive')\n",
            "('сегодня утром что-то с дашей заржались :D обожаю ее чувство юмора', 'positive')\n",
            "('RT @JuliaTensli: вот сиди потом и рыдай в конце,а потом ходи,как бомжара с размазанной тушью :(', 'negative')\n"
          ]
        }
      ]
    },
    {
      "cell_type": "code",
      "execution_count": null,
      "metadata": {
        "colab": {
          "base_uri": "https://localhost:8080/"
        },
        "id": "arD7Dmv3kr0m",
        "outputId": "5d03c3a8-a902-4fe3-af41-f15d46e79ea1"
      },
      "outputs": [
        {
          "output_type": "stream",
          "name": "stdout",
          "text": [
            "type : ‘quit’ to exit\n",
            "Please enter example input: Государство какой плохое\n",
            "{'positive': 2.7320893423166126e-05, 'negative': 0.9999727010726929}\n",
            "the sentiment is negative\n",
            "Please enter example input: сегодня утром что-то с дашей заржались :D обожаю ее чувство юмора\n",
            "{'positive': 1.0, 'negative': 2.1615366441185557e-10}\n",
            "the sentiment is positive\n",
            "Please enter example input: вот сиди потом и рыдай в конце,а потом ходи,как бомжара с размазанной тушью :(\n",
            "{'positive': 2.5174633933033874e-08, 'negative': 1.0}\n",
            "the sentiment is negative\n"
          ]
        }
      ],
      "source": [
        "import spacy\n",
        "# load thebest model from training\n",
        "nlp = spacy.load(\"output/model-last\")\n",
        "text = \"\"\n",
        "print(\"type : ‘quit’ to exit\")\n",
        "# predict the sentiment until someone writes quit\n",
        "while text != \"quit\":\n",
        "    text = input(\"Please enter example input: \")\n",
        "    doc = nlp(text)\n",
        "    print(doc.cats)\n",
        "    if doc.cats['positive'] >.5:\n",
        "        print(f\"the sentiment is positive\")\n",
        "    else:\n",
        "        print(f\"the sentiment is negative\")"
      ]
    }
  ],
  "metadata": {
    "colab": {
      "provenance": []
    },
    "kernelspec": {
      "display_name": "Python 3",
      "name": "python3"
    },
    "language_info": {
      "name": "python"
    }
  },
  "nbformat": 4,
  "nbformat_minor": 0
}